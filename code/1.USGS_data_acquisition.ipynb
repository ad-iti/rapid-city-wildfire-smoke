{
 "cells": [
  {
   "cell_type": "markdown",
   "id": "121c8064",
   "metadata": {},
   "source": [
    "## USGS Data Acquisition\n",
    "#### Aditi Shrivastava\n",
    "\n",
    "In this notebook, we explore the prevalence of wildfire smoke in Rapid City, South Dakota via several steps of data acquisition, cleaning, and formatting. \n",
    "\n",
    "The data is primarily sourced from the [Combined wildland fire datasets for the United States and certain territories, 1800s-Present (combined wildland fire polygons)](https://www.sciencebase.gov/catalog/item/61aa537dd34eb622f699df81) dataset, which was collected and aggregated by the [US Geological Survey](https://www.usgs.gov/). The dataset is relatively well documented, fire polygons are available in ArcGIS and GeoJSON formats. For this exploration, we specifically rely upon the large .JSON formatted file, which can be found in the combined .ZIP file.\n",
    "\n",
    "We ensure that the data adheres to the following conditions:\n",
    "- The data only considers the last 60 years of wildland fires (1963-2023).\n",
    "- The data only considers fires that are within 1250 miles of your assigned city."
   ]
  },
  {
   "cell_type": "code",
   "execution_count": 3,
   "id": "0d0668c6",
   "metadata": {},
   "outputs": [],
   "source": [
    "# imports \n",
    "\n",
    "import os, json, time\n",
    "from pyproj import Transformer, Geod\n",
    "import pandas as pd\n",
    "from tqdm import tqdm"
   ]
  },
  {
   "cell_type": "markdown",
   "id": "69debe2b",
   "metadata": {},
   "source": [
    "## 1.\n",
    "Here, we begin by first downloading and located the large .json file as noted and linked above. We read the data in via the python json module, and then format the data into a Pandas dataframe for ease of use. We are concerned with only the 'features' key in the dictionary resulting from reading in the json, which is then flattened into a dataframe."
   ]
  },
  {
   "cell_type": "code",
   "execution_count": 2,
   "id": "0b5a1d31",
   "metadata": {},
   "outputs": [],
   "source": [
    "# about 6 min\n",
    "\n",
    "# Location of data sourced from https://www.sciencebase.gov/catalog/item/61aa537dd34eb622f699df81\n",
    "RAW_DATA_PATH = \"./../data/USGS_Wildland_Fire_Combined_Dataset.json\"\n",
    "\n",
    "# Reading data using json module\n",
    "with open(RAW_DATA_PATH) as combined_dataset:\n",
    "    DATA = json.load(combined_dataset)\n",
    "    # Save as dataframe for easier manipulation\n",
    "    df = pd.DataFrame(DATA['features'])\n",
    "\n",
    "# reformat dataframes and combine horizontally\n",
    "# this completely flattens the json and combines the 'attributes' and 'geeometry' fields\n",
    "attributes = pd.DataFrame.from_records(df.attributes)\n",
    "geometry = pd.DataFrame.from_records(df.geometry)\n",
    "data = pd.concat([attributes, geometry], axis=1)\n",
    "\n",
    "# save intermediate .CSV data (UNUSED)\n",
    "# data.to_csv('./intermediate_data/USGS_Wildland_Fire_Combined_Dataset_Features.csv')"
   ]
  },
  {
   "cell_type": "markdown",
   "id": "ca6652b8",
   "metadata": {},
   "source": [
    "## 2.\n",
    "\n",
    "We apply our first filter, which removes all wildfires before the year 1963."
   ]
  },
  {
   "cell_type": "code",
   "execution_count": 71,
   "id": "99dbccc6",
   "metadata": {},
   "outputs": [],
   "source": [
    "# filter by year\n",
    "data = data[data.Fire_Year >= 1963].reset_index(drop=True)"
   ]
  },
  {
   "cell_type": "markdown",
   "id": "88858b31",
   "metadata": {},
   "source": [
    "## 3.\n",
    "We now work to find and keep only the wildfires within a 1250 mile range of Rapid City, South Dakota. While there are several ways to compute this, I choose to first convert the wildfire rings to the standard EPSG:4326 coordinate system and find the *shortest distance* between the coordinates of Rapid City and each fire in the dataset (more specifically, the largest ring present in each wildifre).\n",
    "\n",
    "##### License\n",
    "The code in this section was developed by Dr. David W. McDonald for use in DATA 512, a course in the UW MS Data Science degree program. This code is provided under the [Creative Commons](https://creativecommons.org) [CC-BY license](https://creativecommons.org/licenses/by/4.0/). Revision 1.1 - September 5, 2023\n",
    "\n",
    "Modified by Aditi Shrivastava"
   ]
  },
  {
   "cell_type": "code",
   "execution_count": 68,
   "id": "fcd44019",
   "metadata": {},
   "outputs": [],
   "source": [
    "# Keep only wildfires within a 1250 mile distance of Rapid City, South Dakota\n",
    "\n",
    "# Create function to convert the ring geometry into the standard EPSG:4326 coordinate system\n",
    "#    The function takes one parameter, a list of ESRI:102008 coordinates that will be transformed to EPSG:4326\n",
    "def convert_ring_to_epsg4326(ring_data=None):\n",
    "    converted_ring = list()\n",
    "\n",
    "    # We use a pyproj transformer that converts from ESRI:102008 to EPSG:4326 to transform the list of coordinates\n",
    "    to_epsg4326 = Transformer.from_crs(\"ESRI:102008\",\"EPSG:4326\")\n",
    "\n",
    "    # We'll run through the list transforming each ESRI:102008 x,y coordinate into a decimal degree lat,lon\n",
    "    for coord in ring_data:\n",
    "        lat, lon = to_epsg4326.transform(coord[0],coord[1])\n",
    "        new_coord = lat,lon\n",
    "        converted_ring.append(new_coord)\n",
    "    return converted_ring\n",
    "\n",
    "\n",
    "# Create function to find the shortest distance between Rapid City and each fire in the dataset\n",
    "#    The function takes two parameters\n",
    "#        A place - which is coordinate point (list or tuple with two items, (lat,lon) in decimal degrees EPSG:4326\n",
    "#        Ring_data - a list of decimal degree coordinates for the fire boundary\n",
    "#\n",
    "#    The function returns a list containing the shortest distance to the perimeter and the point where that is\n",
    "\n",
    "def shortest_distance_from_place_to_fire_perimeter(place = None, ring_data = None):\n",
    "    # convert the ring data to the right coordinate system\n",
    "    ring = convert_ring_to_epsg4326(ring_data)\n",
    "\n",
    "    # create a epsg4326 compliant object - which is what the WGS84 ellipsoid is\n",
    "    geodcalc = Geod(ellps='WGS84')\n",
    "    closest_point = list()\n",
    "\n",
    "    # run through each point in the converted ring data\n",
    "    for point in ring:\n",
    "        # calculate the distance\n",
    "        d = geodcalc.inv(place[1],place[0],point[1],point[0])\n",
    "        # convert the distance to miles\n",
    "        distance_in_miles = d[2]*0.00062137\n",
    "        # if it's closer to the city than the point we have, save it\n",
    "        if not closest_point:\n",
    "            closest_point.append(distance_in_miles)\n",
    "            closest_point.append(point)\n",
    "        elif closest_point and closest_point[0]>distance_in_miles:\n",
    "            closest_point = list()\n",
    "            closest_point.append(distance_in_miles)\n",
    "            closest_point.append(point)\n",
    "    return closest_point\n"
   ]
  },
  {
   "cell_type": "markdown",
   "id": "2dc1172f",
   "metadata": {},
   "source": [
    "## 4.\n",
    "\n",
    "Finally, with a function to find the distance from each fire in the city established, we can find the each wildfire's distance from Rapid City, South Dakota. We use a Pandas apply function to vectorize and speed up the process a bit, but the cell still takes about 45 minutes to finish running on over 100,000 wildfires. The resulting dataset is our final USGS wildfire data, and is then stored locally."
   ]
  },
  {
   "cell_type": "code",
   "execution_count": 76,
   "id": "a0a5a2d0",
   "metadata": {},
   "outputs": [
    {
     "name": "stderr",
     "output_type": "stream",
     "text": [
      "100%|██████████| 117543/117543 [44:28<00:00, 44.04it/s] \n"
     ]
    }
   ],
   "source": [
    "# about 44 min\n",
    "\n",
    "# drop Nan values to allow for distance computations using 'rings' column\n",
    "data = data.dropna(subset=['rings'])\n",
    "\n",
    "# For each wildfire in the dataset, find the shortest distance from the largest ring of the fire perimeter to Rapid City, SD\n",
    "\n",
    "# Dictionary containing longitude and latitude (and name of) my assigned city\n",
    "# Rapid City, South Dakota\n",
    "place = {'city': 'Rapid_City',\n",
    "         'latlon': [44.071389, -103.220833]}\n",
    "\n",
    "# Use pandas progress_apply function and tqdm to track progress\n",
    "# The largest shape (ring) is supposed to be item zero in the list of 'rings' (hence x.rings[0])\n",
    "tqdm.pandas()\n",
    "data['distance'] = data.progress_apply(lambda x: shortest_distance_from_place_to_fire_perimeter(place['latlon'], x.rings[0])[0], axis=1)\n",
    "\n",
    "# Finally, keep only fires within 1250 miles of Rapid City, NV\n",
    "# save\n",
    "data = data[data.distance <= 1250.0]\n",
    "# data.to_csv('final_USGS_data.csv')"
   ]
  }
 ],
 "metadata": {
  "kernelspec": {
   "display_name": "Python 3 (ipykernel)",
   "language": "python",
   "name": "python3"
  },
  "language_info": {
   "codemirror_mode": {
    "name": "ipython",
    "version": 3
   },
   "file_extension": ".py",
   "mimetype": "text/x-python",
   "name": "python",
   "nbconvert_exporter": "python",
   "pygments_lexer": "ipython3",
   "version": "3.9.7"
  }
 },
 "nbformat": 4,
 "nbformat_minor": 5
}
